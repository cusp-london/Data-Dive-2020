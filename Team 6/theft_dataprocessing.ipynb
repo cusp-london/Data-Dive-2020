{
 "cells": [
  {
   "cell_type": "code",
   "execution_count": 1,
   "metadata": {},
   "outputs": [
    {
     "name": "stdout",
     "output_type": "stream",
     "text": [
      "0        16\n",
      "1        16\n",
      "2        16\n",
      "3        16\n",
      "4        16\n",
      "         ..\n",
      "34123    20\n",
      "34124    20\n",
      "34125    20\n",
      "34126    20\n",
      "34127    20\n",
      "Name: year, Length: 34128, dtype: int64\n",
      "0        Jan\n",
      "1        Feb\n",
      "2        Mar\n",
      "3        Apr\n",
      "4        May\n",
      "        ... \n",
      "34123    Feb\n",
      "34124    Mar\n",
      "34125    Apr\n",
      "34126    May\n",
      "34127    Jun\n",
      "Name: month, Length: 34128, dtype: object\n",
      "['Ward Ward Code', 'OCU Name', 'Ward Ward Name', 'Month-Year', '11 Violence Against the Person Offs', 'Homicide Offs', 'Violence with Injury Offs', 'Violence without Injury Offs', '12 Sexual Offences Offs', 'Rape Offs', 'Other Sexual Offences Offs', '13 Robbery Offs', 'Robbery of Business Property Offs', 'Robbery of Personal Property Offs', '14 Burglary Offs', 'Burglary - Residential Offs', 'Burglary - Business and Community Offs', '15 Vehicle Offs', 'Aggravated Vehicle Taking Offs', 'Theft from MV Offs', 'Theft or Taking of MV Offs', '16 Theft Offs', 'Theft from Person Offs', 'Bicycle Theft Offs', 'Shoplifting Offs', 'Other Theft Offs', 'Theft Person Mobile Phone Off', '17 Arson and Criminal Damage Offs', '18 Drug Offs', 'Drug Trafficking Offs', 'Poss Drugs Offs', '19 Possession of Weapons Offs', 'Poss Firearm with Intent Offs', 'Poss Firearm Offs', 'Poss Other Weapon Offs', 'Poss Article Blade or Point Offs', 'TNO Offs']\n"
     ]
    }
   ],
   "source": [
    "import pandas as pd\n",
    "import csv\n",
    "\n",
    "df1 = pd.read_csv('WardData.csv')\n",
    "df2 = pd.read_csv('housing-density-ward.csv')\n",
    "\n",
    "df1['year'] = df1['Month-Year'].apply(lambda x: int(x[4:6])) \n",
    "print(df1['year'])\n",
    "df1['month'] = df1['Month-Year'].apply(lambda x: str(x[0:3])) \n",
    "print(df1['month'])\n",
    "\n",
    "with open('WardData.csv','r') as f:\n",
    "  \n",
    "    a=csv.reader(f)\n",
    "    data = list(a)\n",
    "  \n",
    "    print(data[0])\n",
    "    \n",
    "df1.to_csv('newdata.csv',columns=['Ward Ward Code', 'OCU Name', 'Ward Ward Name', 'Month-Year','16 Theft Offs','Theft from Person Offs','Bicycle Theft Offs','Shoplifting Offs','Other Theft Offs','year','month'],index=0,header=1)\n",
    "\n",
    "# df4= pd.merge(df1,df2,how='inner',on='Contacts_Id')\n",
    "# df5= pd.merge(df3,df4,how='inner',on='Point_Id')\n"
   ]
  },
  {
   "cell_type": "code",
   "execution_count": 2,
   "metadata": {},
   "outputs": [],
   "source": [
    "df3 = pd.read_csv('new2.csv')\n",
    "\n",
    "df4= pd.merge(df2,df3,how='inner',on=['Year','Ward_Name'])\n",
    "\n",
    "df4.to_csv(\"zongzong.csv\",index=False)"
   ]
  },
  {
   "cell_type": "code",
   "execution_count": 22,
   "metadata": {},
   "outputs": [
    {
     "name": "stdout",
     "output_type": "stream",
     "text": [
      "['Code', 'Borough', 'Ward_Name', 'Year', 'Population', 'Hectares', 'Square_Kilometres', 'Population_per_hectare', 'Population_per_square_kilometre', 'Ward Ward Code', 'OCU Name', 'Month-Year', 'Drug Offs', 'Drug Trafficking Offs', 'Poss Drugs Offs', 'month']\n"
     ]
    }
   ],
   "source": [
    "df5 = pd.read_csv('zongzong.csv')\n",
    "\n",
    "\n",
    "df5['per Drug Offs']=(df5['Drug Offs']/df5['Population'])\n",
    "df5['per Drug Trafficking Offs']=(df5['Drug Trafficking Offs']/df5['Population'])\n",
    "df5['per Poss Drugs Offs']=(df5['Poss Drugs Offs']/df5['Population'])\n",
    "\n",
    "with open('zongzong.csv','r') as f:\n",
    "  \n",
    "    a=csv.reader(f)\n",
    "    data = list(a)\n",
    "  \n",
    "    print(data[0])\n",
    "    \n",
    "df5.to_csv('zz1.csv',index=0,header=1)\n",
    "\n",
    "# df4= pd.merge(df1,df2,how='inner',on='Contacts_Id')"
   ]
  },
  {
   "cell_type": "code",
   "execution_count": 5,
   "metadata": {},
   "outputs": [],
   "source": [
    "import pandas as pd\n",
    "import csv\n",
    "\n",
    "df11 = pd.read_csv('thfpop.csv')\n",
    "\n",
    "\n",
    "df21=df1[(df1['Year'] == 2019)]\n",
    "df21.to_csv('2019.csv',index=0,header=1)\n"
   ]
  },
  {
   "cell_type": "code",
   "execution_count": null,
   "metadata": {},
   "outputs": [],
   "source": []
  },
  {
   "cell_type": "code",
   "execution_count": null,
   "metadata": {},
   "outputs": [],
   "source": []
  },
  {
   "cell_type": "code",
   "execution_count": null,
   "metadata": {},
   "outputs": [],
   "source": []
  }
 ],
 "metadata": {
  "kernelspec": {
   "display_name": "Python 3",
   "language": "python",
   "name": "python3"
  },
  "language_info": {
   "codemirror_mode": {
    "name": "ipython",
    "version": 3
   },
   "file_extension": ".py",
   "mimetype": "text/x-python",
   "name": "python",
   "nbconvert_exporter": "python",
   "pygments_lexer": "ipython3",
   "version": "3.7.4"
  }
 },
 "nbformat": 4,
 "nbformat_minor": 2
}
